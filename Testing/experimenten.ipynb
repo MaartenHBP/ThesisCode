{
 "cells": [
  {
   "cell_type": "markdown",
   "metadata": {},
   "source": [
    "# Notebook te execute tests"
   ]
  },
  {
   "cell_type": "code",
   "execution_count": 1,
   "metadata": {},
   "outputs": [],
   "source": [
    "%load_ext autoreload\n",
    "%autoreload 2\n",
    "\n",
    "# The import statements\n",
    "from test_scripts import *\n",
    "from experimentRunner import ExperimentRunner\n",
    "\n",
    "def ignore_warnings():\n",
    "    import warnings\n",
    "    warnings.simplefilter(action='ignore', category=FutureWarning)\n",
    "    warnings.simplefilter(action='ignore', category=Warning)\n",
    "\n",
    "ignore_warnings()"
   ]
  },
  {
   "cell_type": "code",
   "execution_count": 2,
   "metadata": {},
   "outputs": [
    {
     "name": "stdout",
     "output_type": "stream",
     "text": [
      "e:\\Projecten\\Unif_proj\\ThesisCode\\Testing\\experimenten\\October\\week2 folder already exists.\n"
     ]
    }
   ],
   "source": [
    "# The setup for the time management\n",
    "import datetime\n",
    "currentDate = datetime.date.today()\n",
    "currentMonthName = currentDate.strftime(\"%B\")\n",
    "currentDay = currentDate.strftime(\"%d-%m\")\n",
    "\n",
    "from datetime import datetime\n",
    "\n",
    "start_year = '2022/09/26'\n",
    "\n",
    "# convert string to date object\n",
    "d1 = datetime.strptime(start_year, \"%Y/%m/%d\")\n",
    "d2 = datetime.strptime(str(currentDate), \"%Y-%m-%d\")\n",
    "\n",
    "# difference between dates in timedelta\n",
    "delta = d2 - d1\n",
    "#print(f'Difference is {delta.days} days')\n",
    "\n",
    "nbWeek = int(delta.days/7)\n",
    "\n",
    "import os\n",
    "from pathlib import Path\n",
    "path = Path('experimenten/' + currentMonthName + '/week' + str(nbWeek)).absolute()\n",
    "CHECK_FOLDER = os.path.isdir(path)\n",
    "if not CHECK_FOLDER:\n",
    "    os.makedirs(path)\n",
    "    print(\"created folder : \", path)\n",
    "\n",
    "else:\n",
    "    print(path, \"folder already exists.\")"
   ]
  },
  {
   "cell_type": "markdown",
   "metadata": {},
   "source": [
    "## Variance test"
   ]
  },
  {
   "cell_type": "code",
   "execution_count": 9,
   "metadata": {},
   "outputs": [
    {
     "name": "stdout",
     "output_type": "stream",
     "text": [
      "34.0 %\r"
     ]
    },
    {
     "ename": "ValueError",
     "evalue": "operands could not be broadcast together with shapes (171,) (170,) (171,) ",
     "output_type": "error",
     "traceback": [
      "\u001b[1;31m---------------------------------------------------------------------------\u001b[0m",
      "\u001b[1;31mValueError\u001b[0m                                Traceback (most recent call last)",
      "\u001b[1;32me:\\Projecten\\Unif_proj\\ThesisCode\\Testing\\experimenten.ipynb Cell 5\u001b[0m in \u001b[0;36m<cell line: 4>\u001b[1;34m()\u001b[0m\n\u001b[0;32m      <a href='vscode-notebook-cell:/e%3A/Projecten/Unif_proj/ThesisCode/Testing/experimenten.ipynb#W5sZmlsZQ%3D%3D?line=2'>3</a>\u001b[0m signal \u001b[39m=\u001b[39m k\u001b[39m.\u001b[39mloadDataSets()\n\u001b[0;32m      <a href='vscode-notebook-cell:/e%3A/Projecten/Unif_proj/ThesisCode/Testing/experimenten.ipynb#W5sZmlsZQ%3D%3D?line=3'>4</a>\u001b[0m \u001b[39mif\u001b[39;00m \u001b[39mnot\u001b[39;00m signal \u001b[39m==\u001b[39m \u001b[39m0\u001b[39m:\n\u001b[1;32m----> <a href='vscode-notebook-cell:/e%3A/Projecten/Unif_proj/ThesisCode/Testing/experimenten.ipynb#W5sZmlsZQ%3D%3D?line=4'>5</a>\u001b[0m     k\u001b[39m.\u001b[39;49mrun(time\u001b[39m=\u001b[39;49m\u001b[39mTrue\u001b[39;49;00m, runsPQ\u001b[39m=\u001b[39;49m \u001b[39m200\u001b[39;49m, metric\u001b[39m=\u001b[39;49m\u001b[39mFalse\u001b[39;49;00m, maxQ\u001b[39m=\u001b[39;49m\u001b[39m171\u001b[39;49m)\n\u001b[0;32m      <a href='vscode-notebook-cell:/e%3A/Projecten/Unif_proj/ThesisCode/Testing/experimenten.ipynb#W5sZmlsZQ%3D%3D?line=5'>6</a>\u001b[0m     k\u001b[39m.\u001b[39mclear()\n",
      "File \u001b[1;32me:\\Projecten\\Unif_proj\\ThesisCode\\Testing\\experimentRunner.py:83\u001b[0m, in \u001b[0;36mExperimentRunner.run\u001b[1;34m(self, ARI, time, plot, maxQ, runsPQ, CI, metric, normal)\u001b[0m\n\u001b[0;32m     79\u001b[0m \u001b[39m# best_clustering = all_clusters[-1]\u001b[39;00m\n\u001b[0;32m     80\u001b[0m \u001b[39m# runtime = runtimes[-1]\u001b[39;00m\n\u001b[0;32m     81\u001b[0m IRA \u001b[39m=\u001b[39m np\u001b[39m.\u001b[39marray([adjusted_rand_score(samples[\u001b[39m\"\u001b[39m\u001b[39mtarget\u001b[39m\u001b[39m\"\u001b[39m], clustering) \u001b[39mfor\u001b[39;00m clustering \u001b[39min\u001b[39;00m all_clusters])\n\u001b[1;32m---> 83\u001b[0m average[\u001b[39m\"\u001b[39m\u001b[39mS1\u001b[39m\u001b[39m\"\u001b[39m] \u001b[39m+\u001b[39m\u001b[39m=\u001b[39m IRA\n\u001b[0;32m     84\u001b[0m average[\u001b[39m\"\u001b[39m\u001b[39mS2\u001b[39m\u001b[39m\"\u001b[39m] \u001b[39m+\u001b[39m\u001b[39m=\u001b[39m IRA\u001b[39m*\u001b[39m\u001b[39m*\u001b[39m\u001b[39m2\u001b[39m\n\u001b[0;32m     86\u001b[0m \u001b[39mprint\u001b[39m(\u001b[39mf\u001b[39m\u001b[39m\"\u001b[39m\u001b[39m{\u001b[39;00m(j \u001b[39m+\u001b[39m \u001b[39m1\u001b[39m)\u001b[39m/\u001b[39m(runsPQ)\u001b[39m*\u001b[39m\u001b[39m100\u001b[39m\u001b[39m:\u001b[39;00m\u001b[39m.1f\u001b[39m\u001b[39m}\u001b[39;00m\u001b[39m %\u001b[39m\u001b[39m\"\u001b[39m, end\u001b[39m=\u001b[39m\u001b[39m\"\u001b[39m\u001b[39m\\r\u001b[39;00m\u001b[39m\"\u001b[39m)\n",
      "\u001b[1;31mValueError\u001b[0m: operands could not be broadcast together with shapes (171,) (170,) (171,) "
     ]
    }
   ],
   "source": [
    "# variance test\n",
    "k = ExperimentRunner(\"variance test\", path, currentDay)\n",
    "signal = k.loadDataSets()\n",
    "if not signal == 0:\n",
    "    k.run(time=True, runsPQ= 200, metric=False, maxQ=150)\n",
    "    k.clear()\n"
   ]
  }
 ],
 "metadata": {
  "kernelspec": {
   "display_name": "Python 3.8.8 ('base')",
   "language": "python",
   "name": "python3"
  },
  "language_info": {
   "codemirror_mode": {
    "name": "ipython",
    "version": 3
   },
   "file_extension": ".py",
   "mimetype": "text/x-python",
   "name": "python",
   "nbconvert_exporter": "python",
   "pygments_lexer": "ipython3",
   "version": "3.8.8"
  },
  "orig_nbformat": 4,
  "vscode": {
   "interpreter": {
    "hash": "995406004189bc7a762cd15e0adc766b4032076a3e0cf164ca390850079b6fa1"
   }
  }
 },
 "nbformat": 4,
 "nbformat_minor": 2
}
