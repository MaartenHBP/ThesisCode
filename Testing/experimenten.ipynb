{
 "cells": [
  {
   "cell_type": "markdown",
   "metadata": {},
   "source": [
    "# Notebook te execute tests"
   ]
  },
  {
   "cell_type": "code",
   "execution_count": 1,
   "metadata": {},
   "outputs": [],
   "source": [
    "%load_ext autoreload\n",
    "%autoreload 2\n",
    "\n",
    "# The import statements\n",
    "from test_scripts import *\n",
    "from experimentRunner import ExperimentRunner\n",
    "from algorithms import *\n",
    "from pathlib import Path\n",
    "from metric_learn import *\n",
    "from operator import itemgetter\n",
    "\n",
    "def ignore_warnings():\n",
    "    import warnings\n",
    "    warnings.simplefilter(action='ignore', category=FutureWarning)\n",
    "    warnings.simplefilter(action='ignore', category=Warning)\n",
    "\n",
    "ignore_warnings()"
   ]
  },
  {
   "cell_type": "code",
   "execution_count": 2,
   "metadata": {},
   "outputs": [
    {
     "name": "stdout",
     "output_type": "stream",
     "text": [
      "e:\\Projecten\\Unif_proj\\ThesisCode\\Testing\\experimenten\\November\\week7 folder already exists.\n"
     ]
    }
   ],
   "source": [
    "# The setup for the time management\n",
    "import datetime\n",
    "currentDate = datetime.date.today()\n",
    "currentMonthName = currentDate.strftime(\"%B\")\n",
    "currentDay = currentDate.strftime(\"%d-%m\")\n",
    "\n",
    "from datetime import datetime\n",
    "\n",
    "start_year = '2022/09/26'\n",
    "\n",
    "# convert string to date object\n",
    "d1 = datetime.strptime(start_year, \"%Y/%m/%d\")\n",
    "d2 = datetime.strptime(str(currentDate), \"%Y-%m-%d\")\n",
    "\n",
    "# difference between dates in timedelta\n",
    "delta = d2 - d1\n",
    "#print(f'Difference is {delta.days} days')\n",
    "\n",
    "nbWeek = int(delta.days/7) + 1\n",
    "\n",
    "import os\n",
    "from pathlib import Path\n",
    "path = Path('experimenten/' + currentMonthName + '/week' + str(nbWeek)).absolute()\n",
    "CHECK_FOLDER = os.path.isdir(path)\n",
    "if not CHECK_FOLDER:\n",
    "    os.makedirs(path)\n",
    "    print(\"created folder : \", path)\n",
    "\n",
    "else:\n",
    "    print(path, \"folder already exists.\")"
   ]
  },
  {
   "cell_type": "code",
   "execution_count": 3,
   "metadata": {},
   "outputs": [
    {
     "name": "stdout",
     "output_type": "stream",
     "text": [
      "{1: 'breast-cancer-wisconsin', 2: 'column_2C', 3: 'dermatology', 4: 'ecoli', 5: 'faces_expression_imagenet', 6: 'faces_eyes_imagenet', 7: 'faces_identity_imagenet', 8: 'faces_pose_imagenet', 9: 'glass', 10: 'hepatitis', 11: 'iris', 12: 'newsgroups_diff3', 13: 'newsgroups_sim3', 14: 'optdigits389_full', 15: 'parkinsons', 16: 'segmentation', 17: 'segmentation_training_only', 18: 'sonar', 19: 'spambase', 20: 'yeast'}\n"
     ]
    }
   ],
   "source": [
    "# Dictionary with all the algorithms, datasets and preprocessing \n",
    "\n",
    "datasets = dict()\n",
    "path_data = Path('datasets/cobras-paper/').absolute()\n",
    "dir_list = os.listdir(path_data)\n",
    "for i in range(len(dir_list)):\n",
    "    datasets[i + 1] = dir_list[i][:len(dir_list[i]) - 5]\n",
    "print(datasets)\n",
    "\n",
    "algos = {\n",
    "    0: Cobras(),\n",
    "    1: SemiSupervised(),\n",
    "    2: Supervised(),\n",
    "    3: Preprocessed(),\n",
    "    4: PortionPreprocessed()\n",
    "}\n",
    "\n",
    "ml_ss = {\n",
    "    0: NCA(max_iter=100) # dees nog verder uitbereiden\n",
    "}\n",
    "\n",
    "ml_semi = {\n",
    "    0: ITML()\n",
    "}"
   ]
  },
  {
   "cell_type": "code",
   "execution_count": 4,
   "metadata": {},
   "outputs": [],
   "source": [
    "# Foldcreator\n",
    "\n",
    "fold = 1\n",
    "newFold = False\n",
    "\n",
    "if newFold:\n",
    "    print(\"Creating new fold to use in the experiments\")\n",
    "    for key, value in datasets.items():\n",
    "        k = ExperimentRunner(\"Fold creator \" + value , path, currentDay)\n",
    "        fold = k.createFold(10, value)"
   ]
  },
  {
   "cell_type": "markdown",
   "metadata": {},
   "source": [
    "## Effect of first training a metric on the trainingset or full set"
   ]
  },
  {
   "cell_type": "code",
   "execution_count": 4,
   "metadata": {},
   "outputs": [],
   "source": [
    "# %%capture\n",
    "k = ExperimentRunner(\"Effect_of_preprocessing_with_metric_learning\", path, currentDay, saveResults= True) # nog ARI berekenen\n",
    "k.loadDataSets([]) # list(itemgetter(11, 10)(datasets)) to get specific datasets\n",
    "k.addAlgo(list(itemgetter(0,3, 4)(algos)))\n",
    "k.run(runsPQ= 10, maxQ=200, crossFold=fold, save=True)\n",
    "full = k.makePlot(maxQ = 200, sortByAlgo=True, sortByDataset=False, seperate=False)\n",
    "seperate = k.makePlot(maxQ = 200, sortByAlgo=True, sortByDataset=False, seperate=True)\n",
    "k.makeZip()"
   ]
  },
  {
   "cell_type": "markdown",
   "metadata": {},
   "source": [
    "## Baseline"
   ]
  },
  {
   "cell_type": "code",
   "execution_count": 7,
   "metadata": {},
   "outputs": [],
   "source": [
    "%%capture\n",
    "k = ExperimentRunner(\"Baseline_SemiSupervised\", path, currentDay, saveResults= True)\n",
    "k.loadDataSets([]) # list(itemgetter(11, 10)(datasets)) to get specific datasets\n",
    "k.addAlgo([Cobras(),BaselineSemiSupervised()])\n",
    "k.run(runsPQ= 10, maxQ=200, crossFold=fold, save=True)\n",
    "full = k.makePlot(maxQ = 100, sortByAlgo=True, sortByDataset=False, seperate=False)\n",
    "seperate = k.makePlot(maxQ = 200, sortByAlgo=True, sortByDataset=False, seperate=True)\n",
    "k.makeZip()"
   ]
  },
  {
   "cell_type": "markdown",
   "metadata": {},
   "source": [
    "## Variance test"
   ]
  },
  {
   "cell_type": "code",
   "execution_count": 9,
   "metadata": {},
   "outputs": [],
   "source": [
    "# variance test -> werkt gewoon met gemiddeldes I guess en geen crossfold\n"
   ]
  }
 ],
 "metadata": {
  "kernelspec": {
   "display_name": "Python 3.9.13 ('metric')",
   "language": "python",
   "name": "python3"
  },
  "language_info": {
   "codemirror_mode": {
    "name": "ipython",
    "version": 3
   },
   "file_extension": ".py",
   "mimetype": "text/x-python",
   "name": "python",
   "nbconvert_exporter": "python",
   "pygments_lexer": "ipython3",
   "version": "3.9.13"
  },
  "orig_nbformat": 4,
  "vscode": {
   "interpreter": {
    "hash": "e8ec62f1ca83558c41e18286e0e25fea891e0c18d7c7688d38d4803042076719"
   }
  }
 },
 "nbformat": 4,
 "nbformat_minor": 2
}
