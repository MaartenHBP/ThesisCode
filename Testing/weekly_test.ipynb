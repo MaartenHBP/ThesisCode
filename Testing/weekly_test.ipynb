{
 "cells": [
  {
   "cell_type": "markdown",
   "metadata": {},
   "source": [
    "# Weekly test to check the progress"
   ]
  },
  {
   "cell_type": "code",
   "execution_count": null,
   "metadata": {},
   "outputs": [],
   "source": [
    "%load_ext autoreload\n",
    "%autoreload 2\n",
    "\n",
    "def ignore_warnings():\n",
    "    import warnings\n",
    "    warnings.simplefilter(action='ignore', category=FutureWarning)\n",
    "    warnings.simplefilter(action='ignore', category=Warning)\n",
    "\n",
    "ignore_warnings()"
   ]
  },
  {
   "cell_type": "markdown",
   "metadata": {},
   "source": [
    "## Setup (time)"
   ]
  },
  {
   "cell_type": "code",
   "execution_count": 26,
   "metadata": {},
   "outputs": [
    {
     "name": "stdout",
     "output_type": "stream",
     "text": [
      "e:\\Projecten\\Unif_proj\\ThesisCode\\Testing\\weekly_tests\\October\\week2\n",
      "created folder :  e:\\Projecten\\Unif_proj\\ThesisCode\\Testing\\weekly_tests\\October\\week2\n"
     ]
    }
   ],
   "source": [
    "# The setup for the time management\n",
    "import datetime\n",
    "currentDate = datetime.date.today()\n",
    "currentMonthName = currentDate.strftime(\"%B\")\n",
    "\n",
    "from datetime import datetime\n",
    "\n",
    "start_year = '2022/09/26'\n",
    "\n",
    "# convert string to date object\n",
    "d1 = datetime.strptime(start_year, \"%Y/%m/%d\")\n",
    "d2 = datetime.strptime(str(currentDate), \"%Y-%m-%d\")\n",
    "\n",
    "# difference between dates in timedelta\n",
    "delta = d2 - d1\n",
    "#print(f'Difference is {delta.days} days')\n",
    "\n",
    "nbWeek = int(delta.days/7)\n",
    "\n",
    "import os\n",
    "from pathlib import Path\n",
    "dataset_path = Path('weekly_tests/' + currentMonthName + '/week' + str(nbWeek)).absolute()\n",
    "print(dataset_path)\n",
    "CHECK_FOLDER = os.path.isdir(dataset_path)\n",
    "if not CHECK_FOLDER:\n",
    "    os.makedirs(dataset_path)\n",
    "    print(\"created folder : \", dataset_path)\n",
    "\n",
    "else:\n",
    "    print(dataset_path, \"folder already exists.\")\n",
    "\n"
   ]
  }
 ],
 "metadata": {
  "kernelspec": {
   "display_name": "Python 3.8.8 ('base')",
   "language": "python",
   "name": "python3"
  },
  "language_info": {
   "codemirror_mode": {
    "name": "ipython",
    "version": 3
   },
   "file_extension": ".py",
   "mimetype": "text/x-python",
   "name": "python",
   "nbconvert_exporter": "python",
   "pygments_lexer": "ipython3",
   "version": "3.8.8"
  },
  "orig_nbformat": 4,
  "vscode": {
   "interpreter": {
    "hash": "995406004189bc7a762cd15e0adc766b4032076a3e0cf164ca390850079b6fa1"
   }
  }
 },
 "nbformat": 4,
 "nbformat_minor": 2
}
