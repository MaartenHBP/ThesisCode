{
 "cells": [
  {
   "cell_type": "markdown",
   "metadata": {
    "collapsed": true,
    "pycharm": {
     "name": "#%% md\n"
    }
   },
   "source": [
    "# Example\n",
    "## Imports and set-up"
   ]
  },
  {
   "cell_type": "code",
   "execution_count": 34,
   "metadata": {
    "collapsed": false,
    "pycharm": {
     "name": "#%%\n"
    }
   },
   "outputs": [
    {
     "name": "stdout",
     "output_type": "stream",
     "text": [
      "The autoreload extension is already loaded. To reload it, use:\n",
      "  %reload_ext autoreload\n"
     ]
    }
   ],
   "source": [
    "%load_ext autoreload\n",
    "%autoreload 2\n",
    "\n",
    "from pathlib import Path\n",
    "from sklearn.metrics import adjusted_rand_score\n",
    "from noise_robust_cobras.cobras import COBRAS\n",
    "from noise_robust_cobras.querier.noisy_labelquerier import ProbabilisticNoisyQuerier\n",
    "from noise_robust_cobras.querier.labelquerier import LabelQuerier\n",
    "from noise_robust_cobras.metric_learning.metriclearning_algorithms import SemiSupervisedMetric\n",
    "from noise_robust_cobras.metric_learning.metriclearning_algorithms import SupervisedMetric\n",
    "import numpy as np\n",
    "\n",
    "def ignore_warnings():\n",
    "    import warnings\n",
    "    warnings.simplefilter(action='ignore', category=FutureWarning)\n",
    "    warnings.simplefilter(action='ignore', category=Warning)\n",
    "\n",
    "ignore_warnings()\n",
    "\n",
    "# dataset_path = Path('iris.data').absolute()\n",
    "dataset_path = Path('parkinsons.data').absolute()\n",
    "assert dataset_path.exists(), f\"the dataset does not exist here the root path is {Path().absolute()}\"\n",
    "\n",
    "querier_seed = 123"
   ]
  },
  {
   "cell_type": "markdown",
   "metadata": {
    "collapsed": false,
    "pycharm": {
     "name": "#%% md\n"
    }
   },
   "source": [
    "Let's start of with loading a dataset"
   ]
  },
  {
   "cell_type": "code",
   "execution_count": 35,
   "metadata": {
    "collapsed": false,
    "pycharm": {
     "name": "#%%\n"
    }
   },
   "outputs": [
    {
     "name": "stdout",
     "output_type": "stream",
     "text": [
      "data shape: (195, 13)\n"
     ]
    }
   ],
   "source": [
    "dataset = np.loadtxt(dataset_path, delimiter=',')\n",
    "data = dataset[:, 1:]\n",
    "target = dataset[:, 0]\n",
    "print(f\"data shape: {data.shape}\")"
   ]
  },
  {
   "cell_type": "markdown",
   "metadata": {
    "collapsed": false,
    "pycharm": {
     "name": "#%% md\n"
    }
   },
   "source": [
    "Create a noisy oracle to simulate a domain expert that makes some mistakes"
   ]
  },
  {
   "cell_type": "code",
   "execution_count": 10,
   "metadata": {
    "collapsed": false,
    "pycharm": {
     "name": "#%%\n"
    }
   },
   "outputs": [],
   "source": [
    "noisy_querier = ProbabilisticNoisyQuerier(None, target, 0.1,100, random_seed=querier_seed)"
   ]
  },
  {
   "cell_type": "markdown",
   "metadata": {
    "collapsed": false,
    "pycharm": {
     "name": "#%% md\n"
    }
   },
   "source": [
    "Create a COBRAS object to cluster the data based on the supervision that the noisy querier gives:"
   ]
  },
  {
   "cell_type": "code",
   "execution_count": 11,
   "metadata": {
    "collapsed": false,
    "pycharm": {
     "name": "#%%\n"
    }
   },
   "outputs": [],
   "source": [
    "clusterer = COBRAS(noise_probability=0.1,minimum_approximation_order=3, maximum_approximation_order=6)\n",
    "# only store the first two return values\n",
    "all_clusters, runtimes, *_ = clusterer.fit(data, -1, None, noisy_querier)\n",
    "best_clustering_robust = all_clusters[-1]\n",
    "runtime_robust = runtimes[-1]"
   ]
  },
  {
   "cell_type": "markdown",
   "metadata": {
    "collapsed": false,
    "pycharm": {
     "name": "#%% md\n"
    }
   },
   "source": [
    "Evaluate the clustering quality"
   ]
  },
  {
   "cell_type": "code",
   "execution_count": 12,
   "metadata": {
    "collapsed": false,
    "pycharm": {
     "name": "#%%\n"
    }
   },
   "outputs": [
    {
     "name": "stdout",
     "output_type": "stream",
     "text": [
      "Clustering took 21.636, ARI = 0.882\n"
     ]
    }
   ],
   "source": [
    "ARI_score_robust = adjusted_rand_score(target, best_clustering_robust)\n",
    "print(f\"Clustering took {runtime_robust:0.3f}, ARI = {ARI_score_robust:0.3f}\")"
   ]
  },
  {
   "cell_type": "markdown",
   "metadata": {
    "collapsed": false,
    "pycharm": {
     "name": "#%% md\n"
    }
   },
   "source": [
    "For reference also run cobras with no noise handling mechanism"
   ]
  },
  {
   "cell_type": "code",
   "execution_count": 121,
   "metadata": {
    "collapsed": false,
    "pycharm": {
     "name": "#%%\n"
    }
   },
   "outputs": [
    {
     "name": "stdout",
     "output_type": "stream",
     "text": [
      "Clustering took 1.204, ARI = 0.000\n"
     ]
    }
   ],
   "source": [
    "# make a new querier (take care these are statefull! so make a new querier every time)\n",
    "noisy_querier = ProbabilisticNoisyQuerier(None, target, 0.1,100, random_seed=querier_seed)\n",
    "querier = LabelQuerier(None, target, 10)\n",
    "\n",
    "# make new COBRAS\n",
    "clusterer = COBRAS(correct_noise=False)\n",
    "all_clusters, runtimes, *_ = clusterer.fit(data, -1, None, querier)\n",
    "best_clustering = all_clusters[-1]\n",
    "runtime = runtimes[-1]\n",
    "\n",
    "ARI_score = adjusted_rand_score(target, best_clustering)\n",
    "print(f\"Clustering took {runtime:0.3f}, ARI = {ARI_score:0.3f}\")"
   ]
  },
  {
   "cell_type": "code",
   "execution_count": 44,
   "metadata": {},
   "outputs": [
    {
     "name": "stdout",
     "output_type": "stream",
     "text": [
      "normal: 0.5121282567221013\n",
      "metric: 0.4945779999648018\n"
     ]
    }
   ],
   "source": [
    "import os\n",
    "import numpy as np\n",
    "from metric_learn import ITML\n",
    "from metric_learn import MMC\n",
    "from metric_learn import RCA\n",
    "from metric_learn import SDML\n",
    "from metric_learn import LMNN\n",
    "from metric_learn import NCA\n",
    "\n",
    "path = Path('datasets/cobras-paper/').absolute()\n",
    "dir_list = os.listdir(path)\n",
    "string = \"\"\n",
    "averageMetric = 0\n",
    "averageNormal = 0\n",
    "n = 0\n",
    "for i in dir_list:\n",
    "    p = os.path.join(path, i)\n",
    "    dataset = np.loadtxt(p, delimiter=',')\n",
    "    data = dataset[:, 1:]\n",
    "    target = dataset[:, 0]\n",
    "\n",
    "    querier = LabelQuerier(None, target, 100)\n",
    "\n",
    "    # make new COBRAS\n",
    "    clusterer = COBRAS(correct_noise=False , metric_algo=SupervisedMetric(), end = True) # baseline\n",
    "    all_clusters, runtimes, *_ = clusterer.fit(data, -1, None, querier)\n",
    "    newData = np.copy(clusterer.data)\n",
    "\n",
    "    best_clustering = all_clusters[-1]\n",
    "\n",
    "    averageNormal += adjusted_rand_score(target, best_clustering)\n",
    "\n",
    "    # make new COBRAS\n",
    "    querier = LabelQuerier(None, target, 100)\n",
    "    clusterer = COBRAS(correct_noise=False , metric_algo=SupervisedMetric())\n",
    "    all_clusters, runtimes, *_ = clusterer.fit(newData, -1, None, querier)\n",
    "    \n",
    "    best_clustering = all_clusters[-1]\n",
    "    runtime = runtimes[-1]\n",
    "\n",
    "    averageMetric += adjusted_rand_score(target, best_clustering)\n",
    "    n += 1\n",
    "\n",
    "averageMetric /= n\n",
    "averageNormal /= n\n",
    "\n",
    "print(\"normal: \" + str(averageNormal))\n",
    "print(\"metric_full: \" + str(averageMetric))"
   ]
  },
  {
   "cell_type": "code",
   "execution_count": 36,
   "metadata": {},
   "outputs": [
    {
     "name": "stdout",
     "output_type": "stream",
     "text": [
      "0\n",
      "1\n",
      "2\n",
      "3\n",
      "4\n",
      "5\n",
      "6\n",
      "7\n",
      "8\n",
      "9\n",
      "10\n",
      "11\n",
      "12\n",
      "13\n",
      "14\n",
      "15\n",
      "16\n",
      "17\n",
      "18\n",
      "19\n",
      "20\n",
      "21\n",
      "22\n",
      "23\n",
      "24\n",
      "25\n",
      "26\n",
      "27\n",
      "28\n",
      "29\n",
      "30\n",
      "31\n",
      "32\n",
      "33\n",
      "34\n",
      "35\n",
      "36\n",
      "37\n",
      "38\n",
      "39\n",
      "40\n",
      "41\n",
      "42\n",
      "43\n",
      "44\n",
      "45\n",
      "46\n",
      "47\n",
      "48\n",
      "49\n",
      "50\n",
      "51\n",
      "52\n",
      "53\n",
      "54\n",
      "55\n",
      "56\n",
      "57\n",
      "58\n",
      "59\n",
      "60\n",
      "61\n",
      "62\n",
      "63\n",
      "64\n",
      "65\n",
      "66\n",
      "67\n",
      "68\n",
      "69\n",
      "70\n",
      "71\n",
      "72\n",
      "73\n",
      "74\n",
      "75\n",
      "76\n",
      "77\n",
      "78\n",
      "79\n",
      "80\n",
      "81\n",
      "82\n",
      "83\n",
      "84\n",
      "85\n",
      "86\n",
      "87\n",
      "88\n",
      "89\n",
      "90\n",
      "91\n",
      "92\n",
      "93\n",
      "94\n",
      "95\n",
      "96\n",
      "97\n",
      "98\n",
      "99\n"
     ]
    }
   ],
   "source": [
    "count = 100\n",
    "\n",
    "results = np.zeros(count)\n",
    "results_metric = np.zeros(count)\n",
    "results_metric_full = np.zeros(count)\n",
    "x = np.arange(count)\n",
    "x = x + 1\n",
    "\n",
    "for i in range(count):\n",
    "    print(i)\n",
    "    querier = LabelQuerier(None, target, i + 1)\n",
    "\n",
    "    # make new COBRAS\n",
    "    clusterer = COBRAS(correct_noise=False)\n",
    "    all_clusters, runtimes, *_ = clusterer.fit(data, -1, None, querier)\n",
    "    best_clustering = all_clusters[-1]\n",
    "    runtime = runtimes[-1]\n",
    "\n",
    "    results[i] = adjusted_rand_score(target, best_clustering)\n",
    "    \n",
    "    querier = LabelQuerier(None, target, i + 1)\n",
    "\n",
    "    # make new COBRAS\n",
    "    clusterer = COBRAS(correct_noise=False, metric_algo=SupervisedMetric())\n",
    "    all_clusters, runtimes, *_ = clusterer.fit(data, -1, None, querier)\n",
    "    best_clustering = all_clusters[-1]\n",
    "    runtime = runtimes[-1]\n",
    "\n",
    "    results_metric_full[i] = adjusted_rand_score(target, best_clustering)\n",
    "\n",
    "    querier = LabelQuerier(None, target, i + 1)\n",
    "\n",
    "    # make new COBRAS\n",
    "    clusterer = COBRAS(correct_noise=False, metric_algo=SemiSupervisedMetric())\n",
    "    all_clusters, runtimes, *_ = clusterer.fit(data, -1, None, querier)\n",
    "    best_clustering = all_clusters[-1]\n",
    "    runtime = runtimes[-1]\n",
    "\n",
    "    results_metric[i] = adjusted_rand_score(target, best_clustering)\n",
    "\n"
   ]
  },
  {
   "cell_type": "code",
   "execution_count": 37,
   "metadata": {},
   "outputs": [
    {
     "data": {
      "image/png": "[encoded data removed]",
      "text/plain": [
       "<Figure size 640x480 with 1 Axes>"
      ]
     },
     "metadata": {},
     "output_type": "display_data"
    }
   ],
   "source": [
    "import matplotlib.pyplot as plt\n",
    "plt.plot(x, results, color='r', label='COBRAS')\n",
    "plt.plot(x, results_metric, color='g', label='mCOBRAS')\n",
    "plt.plot(x, results_metric_full, color='b', label='fmCOBRAS')\n",
    "\n",
    "plt.xlabel(\"Number of queries\")\n",
    "plt.ylabel(\"ARI\")\n",
    "plt.title(\"Clustering of parkinson\")\n",
    "\n",
    "plt.legend()\n",
    "\n",
    "plt.show()"
   ]
  },
  {
   "cell_type": "markdown",
   "metadata": {
    "collapsed": false,
    "pycharm": {
     "name": "#%% md\n"
    }
   },
   "source": [
    "So as you can see nCOBRAS performs significantly better than COBRAS in the presence of noise.\n",
    "However, the reasoning about noisy constraints takes time and thus nCOBRAS is also considerably slower than COBRAS.\n"
   ]
  }
 ],
 "metadata": {
  "kernelspec": {
   "display_name": "Python 3.8.8 ('base')",
   "language": "python",
   "name": "python3"
  },
  "language_info": {
   "codemirror_mode": {
    "name": "ipython",
    "version": 3
   },
   "file_extension": ".py",
   "mimetype": "text/x-python",
   "name": "python",
   "nbconvert_exporter": "python",
   "pygments_lexer": "ipython3",
   "version": "3.8.8"
  },
  "vscode": {
   "interpreter": {
    "hash": "995406004189bc7a762cd15e0adc766b4032076a3e0cf164ca390850079b6fa1"
   }
  }
 },
 "nbformat": 4,
 "nbformat_minor": 0
}
